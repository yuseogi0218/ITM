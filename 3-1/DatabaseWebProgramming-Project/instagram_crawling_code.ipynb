{
 "cells": [
  {
   "cell_type": "code",
   "execution_count": 7,
   "metadata": {},
   "outputs": [],
   "source": [
    "import pandas as pd\n",
    "import numpy as np\n",
    "\n",
    "import selenium\n",
    "from selenium import webdriver\n",
    "\n",
    "from bs4 import BeautifulSoup as bs\n",
    "from urllib.request import urlopen, Request\n",
    "from urllib.parse import quote_plus\n",
    "import random\n",
    "import time\n",
    "from tqdm import tqdm_notebook\n",
    "import warnings\n",
    "warnings.filterwarnings('ignore')"
   ]
  },
  {
   "cell_type": "code",
   "execution_count": 13,
   "metadata": {},
   "outputs": [],
   "source": [
    "def instagram_login(id, pw):\n",
    "    driver.get(url)\n",
    "    driver.implicitly_wait(5)\n",
    "    driver.find_element_by_name('username').send_keys(id)    # id 입력\n",
    "    elem_pw = driver.find_element_by_name('password')    # pw 입력\n",
    "    elem_pw.send_keys(pw)\n",
    "    elem_pw.submit()\n",
    "    \n",
    "    driver.implicitly_wait(5)    # 파싱될 때까지 5초 기다림 (미리 완료되면 waiting 종료됨)\n",
    "    driver.find_element_by_class_name('cmbtv').click()    # 비밀번호 저장하지 않음\n",
    "    \n",
    "    driver.implicitly_wait(5)\n",
    "    driver.find_element_by_xpath('/html/body/div[4]/div/div/div/div[3]/button[2]').click()    # 알림설정 무시\n",
    "    \n",
    "    \n",
    "def main_search(keyword):\n",
    "    search = driver.find_element_by_xpath('//*[@id=\"react-root\"]/section/nav/div[2]/div/div/div[2]/input')\n",
    "    search.clear()\n",
    "    search.send_keys(keyword)\n",
    "    search_list1 = driver.find_element_by_xpath('//*[@id=\"react-root\"]/section/nav/div[2]/div/div/div[2]/div[3]/div/div[2]/div/a')\n",
    "    search_list1.click()\n",
    "    \n",
    "    \n",
    "    #접속주소 설정\n",
    "url = 'http://www.instagram.com'\n",
    "path = 'C:\\\\Users\\\\Seo\\\\Desktop\\\\DB_Web_Programming\\\\chromedriver.exe'\n",
    "driver = webdriver.Chrome(path)"
   ]
  },
  {
   "cell_type": "code",
   "execution_count": 14,
   "metadata": {
    "scrolled": false
   },
   "outputs": [],
   "source": [
    "instagram_login(\"2you_rock\", \"2db8ddasf!\")"
   ]
  },
  {
   "cell_type": "code",
   "execution_count": 29,
   "metadata": {},
   "outputs": [],
   "source": [
    "import pandas as pd\n",
    "df=pd.read_csv(\"C:\\\\Users\\\\Seo\\\\Desktop\\\\서울시 자치구별 동 데이터다.csv\", encoding=\"euc-kr\")\n",
    "df\n",
    "df.head()\n",
    "\n",
    "seoul_list = []\n",
    "\n",
    "for i in range (0,240):\n",
    "    #print(df.values[i][0])\n",
    "    \n",
    "    seoul_list.append(df.values[i][0])\n",
    "    \n",
    "#print(seoul_list)\n",
    "def search(i):\n",
    "    keyword = seoul_list[i] + '카페'\n",
    "    search = driver.find_element_by_xpath('//*[@id=\"react-root\"]/section/nav/div[2]/div/div/div[2]/input')\n",
    "    search.clear()\n",
    "    search.send_keys(keyword)"
   ]
  },
  {
   "cell_type": "code",
   "execution_count": 30,
   "metadata": {},
   "outputs": [],
   "source": [
    "date_list = []\n",
    "time_list = []\n",
    "loc_list = []"
   ]
  },
  {
   "cell_type": "code",
   "execution_count": 1,
   "metadata": {
    "scrolled": false
   },
   "outputs": [
    {
     "ename": "NameError",
     "evalue": "name 'search' is not defined",
     "output_type": "error",
     "traceback": [
      "\u001b[1;31m---------------------------------------------------------------------------\u001b[0m",
      "\u001b[1;31mNameError\u001b[0m                                 Traceback (most recent call last)",
      "\u001b[1;32m<ipython-input-1-8f77b29e9f5e>\u001b[0m in \u001b[0;36m<module>\u001b[1;34m\u001b[0m\n\u001b[0;32m      5\u001b[0m     \u001b[1;32mif\u001b[0m \u001b[0mpage\u001b[0m \u001b[1;33m>=\u001b[0m \u001b[1;36m2\u001b[0m\u001b[1;33m:\u001b[0m\u001b[1;33m\u001b[0m\u001b[1;33m\u001b[0m\u001b[0m\n\u001b[0;32m      6\u001b[0m         \u001b[0mtime\u001b[0m\u001b[1;33m.\u001b[0m\u001b[0msleep\u001b[0m\u001b[1;33m(\u001b[0m\u001b[1;36m4\u001b[0m\u001b[1;33m)\u001b[0m\u001b[1;33m\u001b[0m\u001b[1;33m\u001b[0m\u001b[0m\n\u001b[1;32m----> 7\u001b[1;33m     \u001b[0msearch\u001b[0m\u001b[1;33m(\u001b[0m\u001b[0mi\u001b[0m\u001b[1;33m)\u001b[0m\u001b[1;33m\u001b[0m\u001b[1;33m\u001b[0m\u001b[0m\n\u001b[0m\u001b[0;32m      8\u001b[0m     \u001b[0mprint\u001b[0m\u001b[1;33m(\u001b[0m\u001b[0mseoul_list\u001b[0m\u001b[1;33m[\u001b[0m\u001b[0mi\u001b[0m\u001b[1;33m]\u001b[0m\u001b[1;33m)\u001b[0m\u001b[1;33m\u001b[0m\u001b[1;33m\u001b[0m\u001b[0m\n\u001b[0;32m      9\u001b[0m     \u001b[0mprint\u001b[0m\u001b[1;33m(\u001b[0m\u001b[1;34m'---------------------------------------'\u001b[0m\u001b[1;33m)\u001b[0m\u001b[1;33m\u001b[0m\u001b[1;33m\u001b[0m\u001b[0m\n",
      "\u001b[1;31mNameError\u001b[0m: name 'search' is not defined"
     ]
    }
   ],
   "source": [
    "# 111 ~ \n",
    "page = 1\n",
    "for i in range(0,240):  \n",
    "    \n",
    "    if page >= 2:\n",
    "        time.sleep(4)\n",
    "    search(i)\n",
    "    print(seoul_list[i])\n",
    "    print('---------------------------------------')\n",
    "    time.sleep(4)\n",
    "    \n",
    "    if page >= 2:\n",
    "        time.sleep(5)\n",
    "    #검색결과 중에 첫번째 클릭\n",
    "    search_list1 = driver.find_element_by_xpath('//*[@id=\"react-root\"]/section/nav/div[2]/div/div/div[2]/div[3]/div/div[2]/div/div[1]/a/div')\n",
    "    search_list1.click()\n",
    "    #'//*[@id=\"react-root\"]/section/nav/div[2]/div/div/div[2]/div[3]/div/div[2]/div/div[1]/a/div'\n",
    "    if page >= 2:\n",
    "        time.sleep(6)\n",
    "    #검색결과 중 게시글 첫번째꺼 클릭\n",
    "    time.sleep(5)\n",
    "    search_first= driver.find_element_by_xpath('//*[@id=\"react-root\"]/section/main/article/div/div/div/div/div/a/div/div[2]')\n",
    "    search_first.click()\n",
    "    time.sleep(2)\n",
    "    \n",
    "    #게시글 내부 데이터 가져오기\n",
    "\n",
    "    random_time =[0.40, 0.45, 0.5, 0.38, 0.72, 0.6, 0.7, 0.55]\n",
    "\n",
    "    SCROLL_PAUSE_TIME = random_time[random.randrange(0, 8)]\n",
    "    print(SCROLL_PAUSE_TIME)\n",
    "    if page >= 2:\n",
    "        time.sleep(4)\n",
    "        \n",
    "    count =0\n",
    "    page = 0\n",
    "    while count <= 200:\n",
    "        a = 0\n",
    "   #위치 가져오기\n",
    "        \n",
    "        try:\n",
    "            search_location=driver.find_element_by_xpath('/html/body/div[5]/div[2]/div/article/header/div[2]/div[2]/div/a').text\n",
    "            print(search_location)\n",
    "            loc_list.append(search_location)\n",
    "            \n",
    "            search_date=driver.find_element_by_xpath('/html/body/div[5]/div[2]/div/article/div[3]/div[2]/a/time').get_attribute('datetime')\n",
    "   \n",
    "            result_date=search_date[0:10]\n",
    "            print(result_date)\n",
    "            date_list.append(result_date)\n",
    "    \n",
    "            result_time=search_date[11:16]\n",
    "            print(result_time)\n",
    "            time_list.append(result_time)\n",
    "        except Exception:\n",
    "            print(\"There's no location info.\")\n",
    "            print(\"No date_time\")\n",
    "            if page == 0:\n",
    "                a = a+1\n",
    "                go_next = driver.find_element_by_xpath('/html/body/div[5]/div[1]/div/div/a')\n",
    "                go_next.click()\n",
    "            else : \n",
    "                go_next = driver.find_element_by_xpath('/html/body/div[5]/div[1]/div/div/a[2]')\n",
    "                go_next.click()\n",
    "            #loc_list.append('NULL')\n",
    "            #SCROLL_PAUSE_TIME = 0.05\n",
    "            pass\n",
    "          \n",
    "            \n",
    "    #다음 게시물 클릭\n",
    "        try:\n",
    "            if page == 0:\n",
    "                if a == 1:\n",
    "                    go_next = driver.find_element_by_xpath('/html/body/div[5]/div[1]/div/div/a[2]')\n",
    "                    go_next.click()\n",
    "                else:\n",
    "                    go_next = driver.find_element_by_xpath('/html/body/div[5]/div[1]/div/div/a')\n",
    "                    go_next.click()\n",
    "            else:\n",
    "                go_next = driver.find_element_by_xpath('/html/body/div[5]/div[1]/div/div/a[2]')\n",
    "                go_next.click()\n",
    "            page += 1       \n",
    "        except Exception:\n",
    "            print('pass')\n",
    "            pass\n",
    "                \n",
    "        print('{0}Posts are successfully collected.'.format(len(date_list)))\n",
    "        time.sleep(SCROLL_PAUSE_TIME)\n",
    "        \n",
    "        count +=1\n",
    "    time.sleep(3)    \n",
    "    i += 1\n",
    "    \n",
    "   \n",
    "    go_next = driver.find_element_by_xpath('/html/body/div[5]/div[3]/button')\n",
    "    go_next.click()\n",
    "    \n",
    "    \n",
    "    time.sleep(3) \n",
    "    page += 1    \n",
    "    \n",
    "\n",
    "    "
   ]
  },
  {
   "cell_type": "code",
   "execution_count": 2,
   "metadata": {
    "scrolled": false
   },
   "outputs": [
    {
     "ename": "NameError",
     "evalue": "name 'loc_list' is not defined",
     "output_type": "error",
     "traceback": [
      "\u001b[1;31m---------------------------------------------------------------------------\u001b[0m",
      "\u001b[1;31mNameError\u001b[0m                                 Traceback (most recent call last)",
      "\u001b[1;32m<ipython-input-2-7c2d7bd8c556>\u001b[0m in \u001b[0;36m<module>\u001b[1;34m\u001b[0m\n\u001b[1;32m----> 1\u001b[1;33m \u001b[0mlen\u001b[0m\u001b[1;33m(\u001b[0m\u001b[0mloc_list\u001b[0m\u001b[1;33m)\u001b[0m\u001b[1;33m\u001b[0m\u001b[1;33m\u001b[0m\u001b[0m\n\u001b[0m",
      "\u001b[1;31mNameError\u001b[0m: name 'loc_list' is not defined"
     ]
    }
   ],
   "source": [
    "len(loc_list)"
   ]
  },
  {
   "cell_type": "code",
   "execution_count": 3,
   "metadata": {
    "scrolled": true
   },
   "outputs": [
    {
     "ename": "NameError",
     "evalue": "name 'loc_list' is not defined",
     "output_type": "error",
     "traceback": [
      "\u001b[1;31m---------------------------------------------------------------------------\u001b[0m",
      "\u001b[1;31mNameError\u001b[0m                                 Traceback (most recent call last)",
      "\u001b[1;32m<ipython-input-3-701faef77f54>\u001b[0m in \u001b[0;36m<module>\u001b[1;34m\u001b[0m\n\u001b[1;32m----> 1\u001b[1;33m \u001b[0mprint\u001b[0m\u001b[1;33m(\u001b[0m\u001b[0mloc_list\u001b[0m\u001b[1;33m)\u001b[0m\u001b[1;33m\u001b[0m\u001b[1;33m\u001b[0m\u001b[0m\n\u001b[0m",
      "\u001b[1;31mNameError\u001b[0m: name 'loc_list' is not defined"
     ]
    }
   ],
   "source": [
    "print(loc_list)"
   ]
  },
  {
   "cell_type": "code",
   "execution_count": 4,
   "metadata": {
    "scrolled": true
   },
   "outputs": [
    {
     "ename": "NameError",
     "evalue": "name 'date_list' is not defined",
     "output_type": "error",
     "traceback": [
      "\u001b[1;31m---------------------------------------------------------------------------\u001b[0m",
      "\u001b[1;31mNameError\u001b[0m                                 Traceback (most recent call last)",
      "\u001b[1;32m<ipython-input-4-b73850d24905>\u001b[0m in \u001b[0;36m<module>\u001b[1;34m\u001b[0m\n\u001b[1;32m----> 1\u001b[1;33m \u001b[0mmerge\u001b[0m\u001b[1;33m=\u001b[0m\u001b[0mlist\u001b[0m\u001b[1;33m(\u001b[0m\u001b[0mzip\u001b[0m\u001b[1;33m(\u001b[0m\u001b[0mdate_list\u001b[0m\u001b[1;33m,\u001b[0m \u001b[0mtime_list\u001b[0m\u001b[1;33m,\u001b[0m\u001b[0mloc_list\u001b[0m\u001b[1;33m)\u001b[0m\u001b[1;33m)\u001b[0m\u001b[1;33m\u001b[0m\u001b[1;33m\u001b[0m\u001b[0m\n\u001b[0m\u001b[0;32m      2\u001b[0m \u001b[0mprint\u001b[0m\u001b[1;33m(\u001b[0m\u001b[0mmerge\u001b[0m\u001b[1;33m)\u001b[0m\u001b[1;33m\u001b[0m\u001b[1;33m\u001b[0m\u001b[0m\n",
      "\u001b[1;31mNameError\u001b[0m: name 'date_list' is not defined"
     ]
    }
   ],
   "source": [
    "merge=list(zip(date_list, time_list,loc_list))\n",
    "print(merge)"
   ]
  },
  {
   "cell_type": "code",
   "execution_count": 35,
   "metadata": {},
   "outputs": [],
   "source": [
    "import pandas as pd\n",
    "\n",
    "data = pd.DataFrame(merge)\n",
    "\n",
    "data.to_csv('Insta_data.csv')"
   ]
  },
  {
   "cell_type": "code",
   "execution_count": null,
   "metadata": {},
   "outputs": [],
   "source": []
  },
  {
   "cell_type": "code",
   "execution_count": null,
   "metadata": {},
   "outputs": [],
   "source": []
  }
 ],
 "metadata": {
  "kernelspec": {
   "display_name": "Python 3",
   "language": "python",
   "name": "python3"
  },
  "language_info": {
   "codemirror_mode": {
    "name": "ipython",
    "version": 3
   },
   "file_extension": ".py",
   "mimetype": "text/x-python",
   "name": "python",
   "nbconvert_exporter": "python",
   "pygments_lexer": "ipython3",
   "version": "3.7.3"
  }
 },
 "nbformat": 4,
 "nbformat_minor": 4
}
