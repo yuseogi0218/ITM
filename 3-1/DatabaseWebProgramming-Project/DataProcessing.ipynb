{
 "cells": [
  {
   "cell_type": "code",
   "execution_count": null,
   "metadata": {},
   "outputs": [],
   "source": [
    "import numpy as np\n",
    "import pandas as pd\n",
    "import os \n",
    "import requests\n",
    "import json"
   ]
  },
  {
   "cell_type": "markdown",
   "metadata": {},
   "source": [
    "- ## connect Impala"
   ]
  },
  {
   "cell_type": "code",
   "execution_count": null,
   "metadata": {},
   "outputs": [],
   "source": [
    "from impala.dbapi import connect \n",
    "conn = connect(host = '192.168.17.132', port=21050)\n",
    "cursor = conn.cursor()"
   ]
  },
  {
   "cell_type": "markdown",
   "metadata": {},
   "source": [
    "- ## Loading crawled file\n",
    "    - ### change table to dataframe"
   ]
  },
  {
   "cell_type": "code",
   "execution_count": null,
   "metadata": {
    "scrolled": false
   },
   "outputs": [],
   "source": [
    "file = 'station_food_0_11'\n",
    "df = pd.read_csv('/home/training/Desktop/data/{filename}_Insta_data.csv'.format(filename = file))\n",
    "df.columns = [\"index\",\"date\",\"time\",\"site\"]\n",
    "df = df.iloc[1:,1:]\n",
    "df = df.dropna() # delete null data\n",
    "import re\n",
    "for i in range(len(df.iloc[:,2])):\n",
    "    df.iloc[i,2] = re.sub('[^\\sa-zA-Z0-9ㄱ-ㅣ가-힣]','',df.iloc[i,2])\n",
    "df.to_csv('/home/training/Desktop/new_insta_data.csv')\n",
    "df"
   ]
  },
  {
   "cell_type": "code",
   "execution_count": null,
   "metadata": {
    "scrolled": true
   },
   "outputs": [],
   "source": [
    "df[\"x\"] = \"\"\n",
    "df[\"y\"] = \"\"\n",
    "df"
   ]
  },
  {
   "cell_type": "markdown",
   "metadata": {},
   "source": [
    "- ## get unique site "
   ]
  },
  {
   "cell_type": "code",
   "execution_count": null,
   "metadata": {},
   "outputs": [],
   "source": [
    "site = df[\"site\"].unique()"
   ]
  },
  {
   "cell_type": "markdown",
   "metadata": {},
   "source": [
    "- ## find latitude and longitude from map search using KAKAO map API"
   ]
  },
  {
   "cell_type": "code",
   "execution_count": null,
   "metadata": {
    "scrolled": true
   },
   "outputs": [],
   "source": [
    "\n",
    "searched_site = pd.DataFrame(columns = [\"site\",\"place_name\",\"x\",\"y\"])\n",
    "for i in site:\n",
    "    print(i)\n",
    "    url = \"https://dapi.kakao.com/v2/local/search/keyword.json?y=37.514322572335935&x=127.06283102249932&radius=20000&query={site}\".format(site = i)\n",
    "    headers = {\"Authorization\": \"KakaoAK 3541027113e812edb537fe1909d43b44\"}\n",
    "    api_test = requests.get(url, headers = headers)\n",
    "    api_test = json.loads(api_test.text)\n",
    "    print(api_test)\n",
    "    try:\n",
    "        k = api_test[\"documents\"]\n",
    "        print(\"test\")\n",
    "        if(k):\n",
    "            k = k[0]\n",
    "            # 해당하는 site에 좌표 넣어주기\n",
    "            df.loc[df[\"site\"] == i, \"x\"] = k[\"x\"]\n",
    "            df.loc[df[\"site\"] == i, \"y\"] = k[\"y\"]\n",
    "            for j in api_test[\"documents\"]:\n",
    "                searched_site = searched_site.append({\"site\":i, \"place_name\":j[\"place_name\"], \"x\":j[\"x\"], \"y\":j[\"y\"]}, ignore_index = True)\n",
    "    except:\n",
    "        pass\n",
    "searched_site"
   ]
  },
  {
   "cell_type": "markdown",
   "metadata": {},
   "source": [
    "- ## add Latitude longitude to dataframe"
   ]
  },
  {
   "cell_type": "code",
   "execution_count": null,
   "metadata": {
    "scrolled": true
   },
   "outputs": [],
   "source": [
    "df['x'].replace('', np.nan, inplace=True)\n",
    "df = df.dropna()"
   ]
  },
  {
   "cell_type": "markdown",
   "metadata": {},
   "source": [
    "- ## export mid_result to local in csv format"
   ]
  },
  {
   "cell_type": "code",
   "execution_count": null,
   "metadata": {},
   "outputs": [],
   "source": [
    "df.to_csv('/home/training/Desktop/mid_result/{filename}_insta_test_new.csv'.format(filename = file),sep = ',', columns = ['date','time','site',\"x\",\"y\"],index = False,encoding = 'UTF-8-sig')"
   ]
  },
  {
   "cell_type": "markdown",
   "metadata": {},
   "source": [
    "- ## input mid_result csv from local to HDFS"
   ]
  },
  {
   "cell_type": "code",
   "execution_count": null,
   "metadata": {
    "scrolled": false
   },
   "outputs": [],
   "source": [
    "os.system('hdfs dfs -put /home/training/Desktop/mid_result/{filename}_insta_test_new.csv /assignment1/'.format(filename = file))"
   ]
  },
  {
   "cell_type": "markdown",
   "metadata": {},
   "source": [
    "- ## make a result_test"
   ]
  },
  {
   "cell_type": "code",
   "execution_count": null,
   "metadata": {},
   "outputs": [],
   "source": [
    "cursor.execute('CREATE TABLE insta_result_test (_date string, _time string, _location string, x string, y string) row format delimited fields terminated by \",\"')"
   ]
  },
  {
   "cell_type": "markdown",
   "metadata": {},
   "source": [
    "- ## insert overwrite test_new into result_test"
   ]
  },
  {
   "cell_type": "code",
   "execution_count": null,
   "metadata": {
    "scrolled": true
   },
   "outputs": [],
   "source": [
    "cursor.execute(\"load data inpath '/assignment1/{filename}_insta_test_new.csv' overwrite into table insta_result_test\".format(filename = file))\n",
    "cursor.execute('SELECT * from insta_result_test')\n",
    "cursor.fetchall()"
   ]
  },
  {
   "cell_type": "markdown",
   "metadata": {},
   "source": [
    "- ## Assign each post its section"
   ]
  },
  {
   "cell_type": "code",
   "execution_count": null,
   "metadata": {
    "scrolled": true
   },
   "outputs": [],
   "source": [
    "cursor.execute('drop table insta_filled')\n",
    "cursor.execute('''create table insta_filled as\n",
    "select \n",
    "    tt._location as loc,\n",
    "    tt.x as x,\n",
    "    tt.y as y,\n",
    "    ss.id as section_id\n",
    "from\n",
    "    insta_result_test tt join\n",
    "    section ss on\n",
    "        ss.lt_lat >= cast(tt.y as float) and\n",
    "      ss.lt_lat-0.001 <= cast(tt.y as float) and\n",
    "      ss.lt_lng <= cast(tt.x as float) and\n",
    "      ss.lt_lng+0.001 >= cast(tt.x as float)''')\n",
    "cursor.execute('select * from insta_filled')\n",
    "cursor.fetchall()"
   ]
  },
  {
   "cell_type": "markdown",
   "metadata": {},
   "source": [
    "- ## Counting number of post for each section"
   ]
  },
  {
   "cell_type": "code",
   "execution_count": null,
   "metadata": {},
   "outputs": [],
   "source": [
    "cursor.execute('drop table density')\n",
    "cursor.execute('''create table density as\n",
    "select\n",
    "    section_id,\n",
    "    count(*)\n",
    "from\n",
    "    insta_filled\n",
    "group by\n",
    "    section_id;''')"
   ]
  },
  {
   "cell_type": "code",
   "execution_count": null,
   "metadata": {
    "scrolled": true
   },
   "outputs": [],
   "source": [
    "cursor.execute('SELECT * FROM density')\n",
    "result = cursor.fetchall()\n",
    "result"
   ]
  },
  {
   "cell_type": "code",
   "execution_count": null,
   "metadata": {},
   "outputs": [],
   "source": [
    "import csv\n",
    "with open('/home/training/Desktop/result/{filename}insta_result.csv'.format(filename=file),'w',newline='') as f:\n",
    "    write = csv.writer(f)\n",
    "    \n",
    "    write.writerows(result)"
   ]
  },
  {
   "cell_type": "code",
   "execution_count": null,
   "metadata": {},
   "outputs": [],
   "source": [
    "cursor.execute('DROP TABLE insta_result_test')"
   ]
  },
  {
   "cell_type": "markdown",
   "metadata": {},
   "source": [
    "- ## export result file to server MySQL"
   ]
  },
  {
   "cell_type": "code",
   "execution_count": null,
   "metadata": {},
   "outputs": [],
   "source": [
    "os.system('scp -i /home/training/Desktop/dbwp-itm-key.pem /home/training/Desktop/result/{filename}insta_result.csv ubuntu@ec2-3-34-91-195.ap-northeast-2.compute.amazonaws.com:/home/ubuntu/ys-result'.format(filename=file))"
   ]
  },
  {
   "cell_type": "code",
   "execution_count": null,
   "metadata": {},
   "outputs": [],
   "source": [
    "os.system('sqoop export --connect jdbc:mysql:ec2-3-34-91-195.ap-northeast-2.compute.amazonaws.com --username ubuntu --password 1234 -- table insta_result_test')"
   ]
  }
 ],
 "metadata": {
  "kernelspec": {
   "display_name": "Python 3",
   "language": "python",
   "name": "python3"
  },
  "language_info": {
   "codemirror_mode": {
    "name": "ipython",
    "version": 3
   },
   "file_extension": ".py",
   "mimetype": "text/x-python",
   "name": "python",
   "nbconvert_exporter": "python",
   "pygments_lexer": "ipython3",
   "version": "3.7.9"
  }
 },
 "nbformat": 4,
 "nbformat_minor": 4
}
